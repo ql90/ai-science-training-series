{
 "cells": [
  {
   "cell_type": "markdown",
   "id": "ffa02761-7e2f-4ce6-842c-af3c17ec5fb8",
   "metadata": {},
   "source": [
    "Session00 Homework"
   ]
  },
  {
   "cell_type": "code",
   "execution_count": 1,
   "id": "b06d1289-1011-4679-b94f-bbcea5693151",
   "metadata": {},
   "outputs": [
    {
     "name": "stdout",
     "output_type": "stream",
     "text": [
      "Session00 homework test!\n"
     ]
    }
   ],
   "source": [
    "import os, sys\n",
    "\n",
    "print('Session00 homework test!')"
   ]
  },
  {
   "cell_type": "code",
   "execution_count": null,
   "id": "c38c8515-9d44-4c0e-b1be-be0bc27d8874",
   "metadata": {},
   "outputs": [],
   "source": []
  }
 ],
 "metadata": {
  "kernelspec": {
   "display_name": "Python 3 (ipykernel)",
   "language": "python",
   "name": "python3"
  },
  "language_info": {
   "codemirror_mode": {
    "name": "ipython",
    "version": 3
   },
   "file_extension": ".py",
   "mimetype": "text/x-python",
   "name": "python",
   "nbconvert_exporter": "python",
   "pygments_lexer": "ipython3",
   "version": "3.9.15"
  }
 },
 "nbformat": 4,
 "nbformat_minor": 5
}
