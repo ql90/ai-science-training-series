{
 "cells": [
  {
   "cell_type": "code",
   "execution_count": 1,
   "metadata": {},
   "outputs": [],
   "source": [
    "import os\n",
    "os.environ[\"HTTP_PROXY\"]=\"http://proxy-01.pub.alcf.anl.gov:3128\"\n",
    "os.environ[\"HTTPS_PROXY\"]=\"http://proxy-01.pub.alcf.anl.gov:3128\"\n",
    "os.environ[\"http_proxy\"]=\"http://proxy-01.pub.alcf.anl.gov:3128\"\n",
    "os.environ[\"https_proxy\"]=\"http://proxy-01.pub.alcf.anl.gov:3128\"\n",
    "os.environ[\"ftp_proxy\"]=\"http://proxy-01.pub.alcf.anl.gov:3128\" "
   ]
  },
  {
   "cell_type": "markdown",
   "metadata": {
    "id": "IFq78-kjbrWp"
   },
   "source": [
    "Last week, Carlo discussed token embedding, which is when words are encoded into a vocabulary. Now, we just discussed attention mechanisms which account for context between words. Another question we should ask is how do we account for the order of words in an input sentence\n",
    "\n",
    "Consider the following two sentences to see why this is important:\n",
    "\n",
    "``The man ate the sandwich.``\n",
    "\n",
    "``The sandwich ate the man.``\n",
    "\n",
    "Clearly, these are two vastly different situations even though they have the same words. The Transformer can \n",
    "\n",
    "Transformers differentiate between these situations by adding a **Positional encoding** vector to each input embedding. These vectors follow a specific pattern that the model learns, which helps it determine the position of each word."
   ]
  },
  {
   "cell_type": "markdown",
   "metadata": {},
   "source": [
    "We set up positional encoding similarly as token embedding using the ``nn.Embedding`` tool. We use a simple embedding here but there are more complex positional encodings used such as sinusoidal. \n",
    "\n",
    "For an explanation of different positional encodings, refer to this post: https://machinelearningmastery.com/a-gentle-introduction-to-positional-encoding-in-transformer-models-part-1/"
   ]
  },
  {
   "cell_type": "markdown",
   "metadata": {},
   "source": [
    "You will notice the positional encoding size is `(block_size, n_embed)` because it encodes for the postion of a token within the sequence of size `block_size`"
   ]
  },
  {
   "cell_type": "markdown",
   "metadata": {},
   "source": [
    "Then, the position embedding used is simply added to the token embedding to apply positional embedding."
   ]
  },
  {
   "cell_type": "markdown",
   "metadata": {},
   "source": [
    "Let's look at token embedding alone:"
   ]
  },
  {
   "cell_type": "markdown",
   "metadata": {},
   "source": [
    "During the training process, these embeddings will be learned to best encode the token and positional embeddings of the sequences."
   ]
  },
  {
   "cell_type": "markdown",
   "metadata": {},
   "source": [
    "The model can calculate the loss between the vector it generates and the ground truth vector seen in this example. A commonly used loss function is cross entropy loss:\n",
    "\n",
    "$CE = -\\sum_{x \\in X} p(x) log q(x)$\n",
    "\n",
    "where p(x) represents the true distribution and q(x) represents the predicted distribution."
   ]
  },
  {
   "cell_type": "markdown",
   "metadata": {},
   "source": [
    "Another important metric commonly used in LLMs is **perplexity**.\n",
    "\n",
    "Intuitively, perplexity means to be surprised. We measure how much the model is surprised by seeing new data. The lower the perplexity, the better the training is."
   ]
  },
  {
   "cell_type": "markdown",
   "metadata": {},
   "source": [
    "Mathematically, perplexity is just the exponent of the negative cross entropy loss:\n",
    "\n",
    "$\\text{perplexity} = exp(\\text{CE})$"
   ]
  },
  {
   "cell_type": "markdown",
   "metadata": {},
   "source": [
    "## Let's train a mini-LLM from scratch"
   ]
  },
  {
   "cell_type": "markdown",
   "metadata": {},
   "source": [
    "### Set up hyperparameters:"
   ]
  },
  {
   "cell_type": "code",
   "execution_count": 2,
   "metadata": {},
   "outputs": [
    {
     "name": "stdout",
     "output_type": "stream",
     "text": [
      "Using device cuda\n"
     ]
    }
   ],
   "source": [
    "import torch\n",
    "import torch.nn as nn\n",
    "from torch.nn import functional as F\n",
    "\n",
    "# hyperparameters\n",
    "batch_size = 16 # how many independent sequences will we process in parallel?\n",
    "block_size = 32 # what is the maximum context length for predictions?\n",
    "max_iters = 5000\n",
    "eval_interval = 10\n",
    "learning_rate = 1e-3\n",
    "device = 'cuda' if torch.cuda.is_available() else 'cpu'\n",
    "# device = 'cpu'\n",
    "# device = torch.device('cuda:1' if torch.cuda.is_available() else 'cpu')\n",
    "print(f\"Using device {device}\")\n",
    "eval_iters = 200\n",
    "n_embd = 64\n",
    "n_head = 4 ## so head_size = 16\n",
    "n_layer = 4\n",
    "dropout = 0.0\n",
    "# ------------"
   ]
  },
  {
   "cell_type": "markdown",
   "metadata": {},
   "source": [
    "### Load in data and create train and test datasets"
   ]
  },
  {
   "cell_type": "markdown",
   "metadata": {},
   "source": [
    "We're going to be using the tiny Shakespeare dataset. \n",
    "Data is tokenized according to a simple character based tokenizer.\n",
    "Data is split into a train and test set so we have something to test after performing training (9:1 split)."
   ]
  },
  {
   "cell_type": "code",
   "execution_count": 3,
   "metadata": {},
   "outputs": [],
   "source": [
    "with open('dataset/input.txt', 'r', encoding='utf-8') as f:\n",
    "    text = f.read()\n",
    "\n",
    "# here are all the unique characters that occur in this text\n",
    "chars = sorted(list(set(text)))\n",
    "vocab_size = len(chars)\n",
    "# create a mapping from characters to integers\n",
    "stoi = { ch:i for i,ch in enumerate(chars) }\n",
    "itos = { i:ch for i,ch in enumerate(chars) }\n",
    "encode = lambda s: [stoi[c] for c in s] # encoder: take a string, output a list of integers\n",
    "decode = lambda l: ''.join([itos[i] for i in l]) # decoder: take a list of integers, output a string\n",
    "\n",
    "# Train and test splits\n",
    "data = torch.tensor(encode(text), dtype=torch.long)\n",
    "n = int(0.9*len(data)) # first 90% will be train, rest val\n",
    "train_data = data[:n]\n",
    "val_data = data[n:]\n",
    "\n",
    "# print(train_data)\n",
    "\n",
    "# data loading\n",
    "def get_batch(split):\n",
    "    # generate a small batch of data of inputs x and targets y\n",
    "    data = train_data if split == 'train' else val_data\n",
    "    ix = torch.randint(len(data) - block_size, (batch_size,))\n",
    "    x = torch.stack([data[i:i+block_size] for i in ix])\n",
    "    y = torch.stack([data[i+1:i+block_size+1] for i in ix])\n",
    "    x, y = x.to(device), y.to(device)\n",
    "    return x, y"
   ]
  },
  {
   "cell_type": "markdown",
   "metadata": {},
   "source": [
    "### Set up the components of the Decoder block: \n",
    "* MultiHeadAttention\n",
    "* FeedForward Network"
   ]
  },
  {
   "cell_type": "code",
   "execution_count": 4,
   "metadata": {},
   "outputs": [],
   "source": [
    "class Head(nn.Module):\n",
    "    \"\"\" one head of self-attention \"\"\"\n",
    "\n",
    "    def __init__(self, head_size):\n",
    "        super().__init__()\n",
    "        self.key = nn.Linear(n_embd, head_size, bias=False)\n",
    "        self.query = nn.Linear(n_embd, head_size, bias=False)\n",
    "        self.value = nn.Linear(n_embd, head_size, bias=False)\n",
    "        self.register_buffer('tril', torch.tril(torch.ones(block_size, block_size)))\n",
    "\n",
    "        self.dropout = nn.Dropout(dropout)\n",
    "\n",
    "    def forward(self, x):\n",
    "        B,T,C = x.shape\n",
    "        k = self.key(x)   # (B,T,C) 16,32,16\n",
    "        q = self.query(x) # (B,T,C)\n",
    "        # compute attention scores (\"affinities\")\n",
    "        wei = q @ k.transpose(-2,-1) * C**-0.5 # (B, T, C) @ (B, C, T) -> (B, T, T)\n",
    "        wei = wei.masked_fill(self.tril[:T, :T] == 0, float('-inf')) # (B, T, T)\n",
    "        wei = F.softmax(wei, dim=-1) # (B, T, T)\n",
    "        wei = self.dropout(wei)\n",
    "        # perform the weighted aggregation of the values\n",
    "        v = self.value(x) # (B,T,C)\n",
    "        out = wei @ v # (B, T, T) @ (B, T, C) -> (B, T, C)\n",
    "        return out\n",
    "\n",
    "class MultiHeadAttention(nn.Module):\n",
    "    \"\"\" multiple heads of self-attention in parallel \"\"\"\n",
    "\n",
    "    def __init__(self, num_heads, head_size):\n",
    "        super().__init__()\n",
    "        self.heads = nn.ModuleList([Head(head_size) for _ in range(num_heads)])\n",
    "        self.proj = nn.Linear(n_embd, n_embd)\n",
    "        self.dropout = nn.Dropout(dropout)\n",
    "\n",
    "    def forward(self, x):\n",
    "        out = torch.cat([h(x) for h in self.heads], dim=-1)\n",
    "        out = self.dropout(self.proj(out))\n",
    "        return out\n",
    "\n",
    "class FeedFoward(nn.Module):\n",
    "    \"\"\" a simple linear layer followed by a non-linearity \"\"\"\n",
    "\n",
    "    def __init__(self, n_embd):\n",
    "        super().__init__()\n",
    "        self.net = nn.Sequential(\n",
    "            nn.Linear(n_embd, 4 * n_embd),\n",
    "            nn.ReLU(),\n",
    "            nn.Linear(4 * n_embd, n_embd), # Projection layer going back into the residual pathway\n",
    "            nn.Dropout(dropout),\n",
    "        )\n",
    "\n",
    "    def forward(self, x):\n",
    "        return self.net(x)\n"
   ]
  },
  {
   "cell_type": "markdown",
   "metadata": {},
   "source": [
    "### Combine components into the Decoder block"
   ]
  },
  {
   "cell_type": "code",
   "execution_count": 5,
   "metadata": {},
   "outputs": [],
   "source": [
    "class Block(nn.Module):\n",
    "    \"\"\" Transformer block: communication followed by computation \"\"\"\n",
    "\n",
    "    def __init__(self, n_embd, n_head):\n",
    "        # n_embd: embedding dimension, n_head: the number of heads we'd like\n",
    "        super().__init__()\n",
    "        head_size = n_embd // n_head\n",
    "        self.sa = MultiHeadAttention(n_head, head_size)\n",
    "        self.ffwd = FeedFoward(n_embd)\n",
    "        self.ln1 = nn.LayerNorm(n_embd)\n",
    "        self.ln2 = nn.LayerNorm(n_embd)\n",
    "\n",
    "    def forward(self, x):\n",
    "        x = x + self.sa(self.ln1(x))    # Communication\n",
    "        x = x + self.ffwd(self.ln2(x))  # Computation\n",
    "        return x"
   ]
  },
  {
   "cell_type": "markdown",
   "metadata": {},
   "source": [
    "### Set up the full Transformer model \n",
    "This is a combination of the Token embeddings, Positional embeddings, a stack of Transformer blocks and an output block."
   ]
  },
  {
   "cell_type": "code",
   "execution_count": 6,
   "metadata": {},
   "outputs": [],
   "source": [
    "# super simple language model\n",
    "class LanguageModel(nn.Module):\n",
    "\n",
    "    def __init__(self):\n",
    "        super().__init__()\n",
    "        # each token directly reads off the logits for the next token from a lookup table\n",
    "        self.token_embedding_table = nn.Embedding(vocab_size, n_embd)\n",
    "        self.position_embedding_table = nn.Embedding(block_size, n_embd)\n",
    "        self.blocks = nn.Sequential(*[Block(n_embd, n_head=n_head) for _ in range(n_layer)])\n",
    "        self.ln_f = nn.LayerNorm(n_embd) # final layer norm\n",
    "        self.lm_head = nn.Linear(n_embd, vocab_size)\n",
    "\n",
    "    def forward(self, idx, targets=None):\n",
    "        B, T = idx.shape\n",
    "\n",
    "        # idx and targets are both (B,T) tensor of integers\n",
    "        tok_emb = self.token_embedding_table(idx) # (B,T,C)\n",
    "        pos_emb = self.position_embedding_table(torch.arange(T, device=device)) # (T,C)\n",
    "        x = tok_emb + pos_emb # (B,T,C)\n",
    "        x = self.blocks(x) # (B,T,C)\n",
    "        x = self.ln_f(x) # (B,T,C)\n",
    "        logits = self.lm_head(x) # (B,T,vocab_size)\n",
    "\n",
    "        if targets is None:\n",
    "            loss = None\n",
    "        else:\n",
    "            B, T, C = logits.shape\n",
    "            logits = logits.view(B*T, C)\n",
    "            targets = targets.view(B*T)\n",
    "            loss = F.cross_entropy(logits, targets)\n",
    "\n",
    "        return logits, loss\n",
    "\n",
    "    def generate(self, idx, max_new_tokens):\n",
    "        # idx is (B, T) array of indices in the current context\n",
    "        for _ in range(max_new_tokens):\n",
    "            # crop idx to the last block_size tokens\n",
    "            idx_cond = idx[:, -block_size:]\n",
    "            # get the predictions\n",
    "            logits, loss = self(idx_cond)\n",
    "            # focus only on the last time step\n",
    "            logits = logits[:, -1, :] # becomes (B, C)\n",
    "            # apply softmax to get probabilities\n",
    "            probs = F.softmax(logits, dim=-1) # (B, C)\n",
    "            # sample from the distribution\n",
    "            idx_next = torch.multinomial(probs, num_samples=1) # (B, 1)\n",
    "            # append sampled index to the running sequence\n",
    "            idx = torch.cat((idx, idx_next), dim=1) # (B, T+1)\n",
    "        return idx\n",
    "\n"
   ]
  },
  {
   "cell_type": "markdown",
   "metadata": {},
   "source": [
    "We will be training a larger LLM on distributed resources in session 6."
   ]
  },
  {
   "cell_type": "markdown",
   "metadata": {},
   "source": [
    "## Homework\n",
    "\n",
    "1. In this notebook, we learned the various components of an LLM. \n",
    "    Your homework this week is to take the mini LLM we created from scratch and run your own training loop. Show how the training and validation perplexity change over the steps.\n",
    "      \n",
    "    Hint: this function might be useful for you:"
   ]
  },
  {
   "cell_type": "code",
   "execution_count": 7,
   "metadata": {},
   "outputs": [],
   "source": [
    "model = LanguageModel()\n",
    "# model.to(device)\n",
    "# model.eval()\n"
   ]
  },
  {
   "cell_type": "code",
   "execution_count": 8,
   "metadata": {},
   "outputs": [],
   "source": [
    "@torch.no_grad()\n",
    "def estimate_loss():\n",
    "    out = {}\n",
    "    model.to(device)\n",
    "    model.eval()\n",
    "    for split in ['train', 'val']:\n",
    "        losses = torch.zeros(eval_iters)\n",
    "        for k in range(eval_iters):\n",
    "            X, Y = get_batch(split)\n",
    "            # X, Y = X.to(device), Y.to(device)\n",
    "            logits, loss = model(X, Y)\n",
    "            losses[k] = loss.item()\n",
    "        out[split] = losses.mean()\n",
    "    model.train()\n",
    "    return out"
   ]
  },
  {
   "cell_type": "code",
   "execution_count": 9,
   "metadata": {},
   "outputs": [
    {
     "name": "stdout",
     "output_type": "stream",
     "text": [
      "Epoch 0: train loss: 4.344, validation loss: 4.347\n",
      "Epoch 1: train loss: 4.343, validation loss: 4.346\n",
      "Epoch 2: train loss: 4.343, validation loss: 4.346\n",
      "Epoch 3: train loss: 4.347, validation loss: 4.347\n",
      "Epoch 4: train loss: 4.345, validation loss: 4.346\n",
      "Epoch 5: train loss: 4.344, validation loss: 4.342\n",
      "Epoch 6: train loss: 4.345, validation loss: 4.347\n",
      "Epoch 7: train loss: 4.345, validation loss: 4.344\n",
      "Epoch 8: train loss: 4.345, validation loss: 4.343\n",
      "Epoch 9: train loss: 4.345, validation loss: 4.340\n",
      "Epoch 10: train loss: 4.346, validation loss: 4.343\n",
      "Epoch 11: train loss: 4.341, validation loss: 4.346\n",
      "Epoch 12: train loss: 4.345, validation loss: 4.344\n",
      "Epoch 13: train loss: 4.345, validation loss: 4.343\n",
      "Epoch 14: train loss: 4.348, validation loss: 4.344\n",
      "Epoch 15: train loss: 4.341, validation loss: 4.343\n",
      "Epoch 16: train loss: 4.344, validation loss: 4.343\n",
      "Epoch 17: train loss: 4.347, validation loss: 4.346\n",
      "Epoch 18: train loss: 4.344, validation loss: 4.344\n",
      "Epoch 19: train loss: 4.346, validation loss: 4.345\n",
      "Epoch 20: train loss: 4.345, validation loss: 4.347\n",
      "Epoch 21: train loss: 4.345, validation loss: 4.344\n",
      "Epoch 22: train loss: 4.344, validation loss: 4.344\n",
      "Epoch 23: train loss: 4.346, validation loss: 4.342\n",
      "Epoch 24: train loss: 4.345, validation loss: 4.345\n",
      "Epoch 25: train loss: 4.340, validation loss: 4.343\n",
      "Epoch 26: train loss: 4.344, validation loss: 4.345\n",
      "Epoch 27: train loss: 4.342, validation loss: 4.347\n",
      "Epoch 28: train loss: 4.347, validation loss: 4.343\n",
      "Epoch 29: train loss: 4.343, validation loss: 4.344\n"
     ]
    }
   ],
   "source": [
    "from tqdm.notebook import tqdm\n",
    "\n",
    "loss_his = {'train':[], 'val':[]}\n",
    "\n",
    "epochs = 30\n",
    "for j in range(epochs):\n",
    "    out = estimate_loss()\n",
    "    train_loss, val_loss = out['train'], out['val']\n",
    "    loss_his['train'].append(train_loss)\n",
    "    loss_his['val'].append(val_loss)\n",
    "\n",
    "    print(f\"Epoch {j}: train loss: {train_loss:.3f}, validation loss: {val_loss:.3f}\")"
   ]
  },
  {
   "cell_type": "code",
   "execution_count": 10,
   "metadata": {},
   "outputs": [
    {
     "data": {
      "text/plain": [
       "Text(0.5, 1.0, 'train loss vs validation loss')"
      ]
     },
     "execution_count": 10,
     "metadata": {},
     "output_type": "execute_result"
    },
    {
     "data": {
      "image/png": "[encoded data removed]",
      "text/plain": [
       "<Figure size 500x300 with 1 Axes>"
      ]
     },
     "metadata": {},
     "output_type": "display_data"
    }
   ],
   "source": [
    "import matplotlib.pyplot as plt\n",
    "\n",
    "plt.figure(figsize=(5,3))\n",
    "plt.plot(loss_his['train'],label='train loss')\n",
    "plt.plot(loss_his['val'],label='val loss')\n",
    "plt.legend()\n",
    "plt.title('train loss vs validation loss')"
   ]
  },
  {
   "cell_type": "markdown",
   "metadata": {},
   "source": [
    "2. Run the same training loop but modify one of the hyperparameters from this list: "
   ]
  },
  {
   "cell_type": "code",
   "execution_count": 11,
   "metadata": {},
   "outputs": [],
   "source": [
    "# hyperparameters\n",
    "n_embd = 64\n",
    "n_head = 4 ## so head_size = 16\n",
    "n_layer = 4"
   ]
  },
  {
   "cell_type": "code",
   "execution_count": 12,
   "metadata": {},
   "outputs": [
    {
     "name": "stdout",
     "output_type": "stream",
     "text": [
      "Defaulting to user installation because normal site-packages is not writeable\n",
      "Requirement already satisfied: optuna in /home/ql901/.local/lib/python3.10/site-packages (3.6.1)\n",
      "Requirement already satisfied: alembic>=1.5.0 in /soft/datascience/conda/2023-10-04/mconda3/lib/python3.10/site-packages (from optuna) (1.12.0)\n",
      "Requirement already satisfied: colorlog in /soft/datascience/conda/2023-10-04/mconda3/lib/python3.10/site-packages (from optuna) (6.7.0)\n",
      "Requirement already satisfied: numpy in /soft/datascience/conda/2023-10-04/mconda3/lib/python3.10/site-packages (from optuna) (1.24.3)\n",
      "Requirement already satisfied: packaging>=20.0 in /soft/datascience/conda/2023-10-04/mconda3/lib/python3.10/site-packages (from optuna) (23.2)\n",
      "Requirement already satisfied: sqlalchemy>=1.3.0 in /soft/datascience/conda/2023-10-04/mconda3/lib/python3.10/site-packages (from optuna) (2.0.21)\n",
      "Requirement already satisfied: tqdm in /soft/datascience/conda/2023-10-04/mconda3/lib/python3.10/site-packages (from optuna) (4.65.0)\n",
      "Requirement already satisfied: PyYAML in /soft/datascience/conda/2023-10-04/mconda3/lib/python3.10/site-packages (from optuna) (6.0.1)\n",
      "Requirement already satisfied: Mako in /soft/datascience/conda/2023-10-04/mconda3/lib/python3.10/site-packages (from alembic>=1.5.0->optuna) (1.2.4)\n",
      "Requirement already satisfied: typing-extensions>=4 in /soft/datascience/conda/2023-10-04/mconda3/lib/python3.10/site-packages (from alembic>=1.5.0->optuna) (4.10.0)\n",
      "Requirement already satisfied: greenlet!=0.4.17 in /soft/datascience/conda/2023-10-04/mconda3/lib/python3.10/site-packages (from sqlalchemy>=1.3.0->optuna) (3.0.0)\n",
      "Requirement already satisfied: MarkupSafe>=0.9.2 in /soft/datascience/conda/2023-10-04/mconda3/lib/python3.10/site-packages (from Mako->alembic>=1.5.0->optuna) (2.1.1)\n"
     ]
    }
   ],
   "source": [
    "!pip install optuna"
   ]
  },
  {
   "cell_type": "code",
   "execution_count": 13,
   "metadata": {},
   "outputs": [
    {
     "name": "stderr",
     "output_type": "stream",
     "text": [
      "[I 2024-04-06 22:52:23,774] A new study created in memory with name: no-name-14ea8f57-ca6a-4c41-93e0-2636bb967537\n",
      "[I 2024-04-06 22:52:28,330] Trial 0 finished with value: 4.340668678283691 and parameters: {'n_embd': 1, 'n_head': 1, 'n_layer': 16}. Best is trial 0 with value: 4.340668678283691.\n",
      "[I 2024-04-06 22:52:32,384] Trial 1 finished with value: 4.3485493659973145 and parameters: {'n_embd': 256, 'n_head': 2, 'n_layer': 1}. Best is trial 0 with value: 4.340668678283691.\n",
      "[I 2024-04-06 22:52:36,253] Trial 2 finished with value: 4.342910289764404 and parameters: {'n_embd': 1, 'n_head': 1, 'n_layer': 8}. Best is trial 0 with value: 4.340668678283691.\n",
      "[I 2024-04-06 22:52:39,686] Trial 3 finished with value: 4.3438310623168945 and parameters: {'n_embd': 256, 'n_head': 1, 'n_layer': 2}. Best is trial 0 with value: 4.340668678283691.\n",
      "[I 2024-04-06 22:52:44,019] Trial 4 finished with value: 4.346414566040039 and parameters: {'n_embd': 128, 'n_head': 4, 'n_layer': 1}. Best is trial 0 with value: 4.340668678283691.\n",
      "[I 2024-04-06 22:52:48,586] Trial 5 finished with value: 4.344710826873779 and parameters: {'n_embd': 64, 'n_head': 4, 'n_layer': 4}. Best is trial 0 with value: 4.340668678283691.\n",
      "[I 2024-04-06 22:52:53,154] Trial 6 finished with value: 4.344749450683594 and parameters: {'n_embd': 1, 'n_head': 1, 'n_layer': 16}. Best is trial 0 with value: 4.340668678283691.\n",
      "[I 2024-04-06 22:52:57,723] Trial 7 finished with value: 4.3436079025268555 and parameters: {'n_embd': 32, 'n_head': 4, 'n_layer': 16}. Best is trial 0 with value: 4.340668678283691.\n",
      "[I 2024-04-06 22:53:02,292] Trial 8 finished with value: 4.3436598777771 and parameters: {'n_embd': 256, 'n_head': 1, 'n_layer': 1}. Best is trial 0 with value: 4.340668678283691.\n",
      "[I 2024-04-06 22:53:06,113] Trial 9 finished with value: 4.3432135581970215 and parameters: {'n_embd': 128, 'n_head': 16, 'n_layer': 4}. Best is trial 0 with value: 4.340668678283691.\n",
      "[I 2024-04-06 22:53:10,060] Trial 10 finished with value: 4.34130334854126 and parameters: {'n_embd': 16, 'n_head': 8, 'n_layer': 16}. Best is trial 0 with value: 4.340668678283691.\n",
      "[I 2024-04-06 22:53:13,463] Trial 11 finished with value: 4.346800327301025 and parameters: {'n_embd': 16, 'n_head': 8, 'n_layer': 16}. Best is trial 0 with value: 4.340668678283691.\n",
      "[I 2024-04-06 22:53:18,032] Trial 12 finished with value: 4.345081806182861 and parameters: {'n_embd': 16, 'n_head': 8, 'n_layer': 16}. Best is trial 0 with value: 4.340668678283691.\n",
      "[I 2024-04-06 22:53:22,600] Trial 13 finished with value: 4.343899250030518 and parameters: {'n_embd': 16, 'n_head': 8, 'n_layer': 16}. Best is trial 0 with value: 4.340668678283691.\n",
      "[I 2024-04-06 22:53:27,177] Trial 14 finished with value: 4.343349456787109 and parameters: {'n_embd': 1, 'n_head': 2, 'n_layer': 8}. Best is trial 0 with value: 4.340668678283691.\n",
      "[I 2024-04-06 22:53:31,745] Trial 15 finished with value: 4.346259593963623 and parameters: {'n_embd': 32, 'n_head': 8, 'n_layer': 2}. Best is trial 0 with value: 4.340668678283691.\n",
      "[I 2024-04-06 22:53:36,218] Trial 16 finished with value: 4.343002796173096 and parameters: {'n_embd': 64, 'n_head': 16, 'n_layer': 16}. Best is trial 0 with value: 4.340668678283691.\n",
      "[I 2024-04-06 22:53:39,904] Trial 17 finished with value: 4.344020843505859 and parameters: {'n_embd': 1, 'n_head': 8, 'n_layer': 16}. Best is trial 0 with value: 4.340668678283691.\n",
      "[I 2024-04-06 22:53:42,242] Trial 18 finished with value: 4.348900318145752 and parameters: {'n_embd': 16, 'n_head': 1, 'n_layer': 16}. Best is trial 0 with value: 4.340668678283691.\n",
      "[I 2024-04-06 22:53:43,927] Trial 19 finished with value: 4.343684673309326 and parameters: {'n_embd': 1, 'n_head': 2, 'n_layer': 2}. Best is trial 0 with value: 4.340668678283691.\n",
      "[I 2024-04-06 22:53:45,612] Trial 20 finished with value: 4.3454060554504395 and parameters: {'n_embd': 16, 'n_head': 16, 'n_layer': 8}. Best is trial 0 with value: 4.340668678283691.\n",
      "[I 2024-04-06 22:53:47,293] Trial 21 finished with value: 4.343923568725586 and parameters: {'n_embd': 1, 'n_head': 1, 'n_layer': 8}. Best is trial 0 with value: 4.340668678283691.\n",
      "[I 2024-04-06 22:53:48,973] Trial 22 finished with value: 4.3452982902526855 and parameters: {'n_embd': 1, 'n_head': 1, 'n_layer': 8}. Best is trial 0 with value: 4.340668678283691.\n",
      "[I 2024-04-06 22:53:50,658] Trial 23 finished with value: 4.343600273132324 and parameters: {'n_embd': 1, 'n_head': 1, 'n_layer': 8}. Best is trial 0 with value: 4.340668678283691.\n",
      "[I 2024-04-06 22:53:52,358] Trial 24 finished with value: 4.344669818878174 and parameters: {'n_embd': 1, 'n_head': 1, 'n_layer': 4}. Best is trial 0 with value: 4.340668678283691.\n",
      "[I 2024-04-06 22:53:54,046] Trial 25 finished with value: 4.345625877380371 and parameters: {'n_embd': 64, 'n_head': 8, 'n_layer': 8}. Best is trial 0 with value: 4.340668678283691.\n",
      "[I 2024-04-06 22:53:55,731] Trial 26 finished with value: 4.345655918121338 and parameters: {'n_embd': 32, 'n_head': 1, 'n_layer': 16}. Best is trial 0 with value: 4.340668678283691.\n",
      "[I 2024-04-06 22:53:57,410] Trial 27 finished with value: 4.346053600311279 and parameters: {'n_embd': 128, 'n_head': 1, 'n_layer': 16}. Best is trial 0 with value: 4.340668678283691.\n",
      "[I 2024-04-06 22:53:59,051] Trial 28 finished with value: 4.343506336212158 and parameters: {'n_embd': 16, 'n_head': 8, 'n_layer': 8}. Best is trial 0 with value: 4.340668678283691.\n",
      "[I 2024-04-06 22:54:02,942] Trial 29 finished with value: 4.344395160675049 and parameters: {'n_embd': 256, 'n_head': 2, 'n_layer': 1}. Best is trial 0 with value: 4.340668678283691.\n"
     ]
    },
    {
     "name": "stdout",
     "output_type": "stream",
     "text": [
      "Loss: 4.340668678283691\n",
      "Best hyperparameters: {'n_embd': 1, 'n_head': 1, 'n_layer': 16}\n"
     ]
    }
   ],
   "source": [
    "import optuna\n",
    "\n",
    "def objective(trial):\n",
    "    n_embd = trial.suggest_categorical(\"n_embd\", [1,16,32,64,128,256])\n",
    "    n_head = trial.suggest_categorical(\"n_head\", [1,2,4,8,16])\n",
    "    n_layer = trial.suggest_categorical(\"n_layer\", [1,2,4,8,16])\n",
    "    \n",
    "    model = LanguageModel()\n",
    "    model.to(device)\n",
    "    \n",
    "    validation_loss = estimate_loss()['val']\n",
    "    return validation_loss\n",
    "    \n",
    "study = optuna.create_study(direction=\"minimize\")\n",
    "study.optimize(objective, n_trials=30)\n",
    "    \n",
    "trial = study.best_trial\n",
    "\n",
    "print(\"Loss: {}\".format(trial.value))\n",
    "print(\"Best hyperparameters: {}\".format(trial.params))\n",
    "    "
   ]
  },
  {
   "cell_type": "code",
   "execution_count": 14,
   "metadata": {},
   "outputs": [],
   "source": [
    "# hyperparameters\n",
    "n_embd = trial.params['n_embd']\n",
    "n_head = trial.params['n_head']\n",
    "n_layer = trial.params['n_layer']\n",
    "\n",
    "model = LanguageModel()\n",
    "# model.to(device)"
   ]
  },
  {
   "cell_type": "code",
   "execution_count": 15,
   "metadata": {},
   "outputs": [
    {
     "name": "stdout",
     "output_type": "stream",
     "text": [
      "Epoch 0: train loss: 4.479, validation loss: 4.481\n",
      "Epoch 1: train loss: 4.477, validation loss: 4.483\n",
      "Epoch 2: train loss: 4.479, validation loss: 4.483\n",
      "Epoch 3: train loss: 4.477, validation loss: 4.481\n",
      "Epoch 4: train loss: 4.478, validation loss: 4.484\n",
      "Epoch 5: train loss: 4.479, validation loss: 4.480\n",
      "Epoch 6: train loss: 4.479, validation loss: 4.484\n",
      "Epoch 7: train loss: 4.479, validation loss: 4.481\n",
      "Epoch 8: train loss: 4.481, validation loss: 4.483\n",
      "Epoch 9: train loss: 4.478, validation loss: 4.482\n",
      "Epoch 10: train loss: 4.478, validation loss: 4.482\n",
      "Epoch 11: train loss: 4.479, validation loss: 4.483\n",
      "Epoch 12: train loss: 4.479, validation loss: 4.482\n",
      "Epoch 13: train loss: 4.477, validation loss: 4.483\n",
      "Epoch 14: train loss: 4.480, validation loss: 4.485\n",
      "Epoch 15: train loss: 4.478, validation loss: 4.480\n",
      "Epoch 16: train loss: 4.479, validation loss: 4.482\n",
      "Epoch 17: train loss: 4.478, validation loss: 4.481\n",
      "Epoch 18: train loss: 4.479, validation loss: 4.481\n",
      "Epoch 19: train loss: 4.481, validation loss: 4.482\n",
      "Epoch 20: train loss: 4.480, validation loss: 4.480\n",
      "Epoch 21: train loss: 4.481, validation loss: 4.484\n",
      "Epoch 22: train loss: 4.482, validation loss: 4.482\n",
      "Epoch 23: train loss: 4.481, validation loss: 4.484\n",
      "Epoch 24: train loss: 4.477, validation loss: 4.483\n",
      "Epoch 25: train loss: 4.478, validation loss: 4.483\n",
      "Epoch 26: train loss: 4.477, validation loss: 4.483\n",
      "Epoch 27: train loss: 4.480, validation loss: 4.481\n",
      "Epoch 28: train loss: 4.479, validation loss: 4.482\n",
      "Epoch 29: train loss: 4.477, validation loss: 4.480\n"
     ]
    },
    {
     "data": {
      "text/plain": [
       "Text(0.5, 1.0, 'train loss vs validation loss')"
      ]
     },
     "execution_count": 15,
     "metadata": {},
     "output_type": "execute_result"
    },
    {
     "data": {
      "image/png": "[encoded data removed]",
      "text/plain": [
       "<Figure size 500x300 with 1 Axes>"
      ]
     },
     "metadata": {},
     "output_type": "display_data"
    }
   ],
   "source": [
    "    \n",
    "import matplotlib.pyplot as plt\n",
    "\n",
    "\n",
    "loss_his = {'train':[], 'val':[]}\n",
    "\n",
    "epochs = 30\n",
    "for j in range(epochs):\n",
    "    out = estimate_loss()\n",
    "    train_loss, val_loss = out['train'], out['val']\n",
    "    loss_his['train'].append(train_loss)\n",
    "    loss_his['val'].append(val_loss)\n",
    "\n",
    "    print(f\"Epoch {j}: train loss: {train_loss:.3f}, validation loss: {val_loss:.3f}\")\n",
    "    \n",
    "\n",
    "\n",
    "plt.figure(figsize=(5,3))\n",
    "plt.plot(loss_his['train'],label='train loss')\n",
    "plt.plot(loss_his['val'],label='val loss')\n",
    "plt.legend()\n",
    "plt.title('train loss vs validation loss')"
   ]
  },
  {
   "cell_type": "markdown",
   "metadata": {},
   "source": [
    "I tried the parameter optimization tool called optuna to find the best setting of n_embd, n_head and n_layer. However, the best combination suggested by optuna still did not improve the model much."
   ]
  },
  {
   "cell_type": "markdown",
   "metadata": {
    "id": "nDXLTusqxXHf"
   },
   "source": [
    "## References"
   ]
  },
  {
   "cell_type": "markdown",
   "metadata": {},
   "source": [
    "Here are some recommendations for further reading and additional code for review.\n",
    "\n",
    "* \"The Illustrated Transformer\" by Jay Alammar\n",
    "* \"Visualizing A Neural Machine Translation Model (Mechanics of Seq2seq Models With Attention)\"\n",
    "* \"The Illustrated GPT-2 (Visualizing Transformer Language Models)\"\n",
    "* \"A gentle introduction to positional encoding\"\n",
    "* \"LLM Tutorial Workshop (Argonne National Laboratory)\"\n",
    "* \"LLM Tutorial Workshop Part 2 (Argonne National Laboratory)\""
   ]
  },
  {
   "cell_type": "code",
   "execution_count": null,
   "metadata": {},
   "outputs": [],
   "source": []
  }
 ],
 "metadata": {
  "colab": {
   "provenance": []
  },
  "kernelspec": {
   "display_name": "datascience/conda-2023-10-04",
   "language": "python",
   "name": "conda-2023-10-03"
  },
  "language_info": {
   "codemirror_mode": {
    "name": "ipython",
    "version": 3
   },
   "file_extension": ".py",
   "mimetype": "text/x-python",
   "name": "python",
   "nbconvert_exporter": "python",
   "pygments_lexer": "ipython3",
   "version": "3.10.12"
  }
 },
 "nbformat": 4,
 "nbformat_minor": 4
}
